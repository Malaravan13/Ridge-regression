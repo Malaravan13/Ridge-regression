{
 "cells": [
  {
   "cell_type": "code",
   "execution_count": 14,
   "id": "207d1c04",
   "metadata": {},
   "outputs": [],
   "source": [
    "import pandas as pd\n",
    "import numpy as np\n",
    "import matplotlib.pyplot as plt\n",
    "from sklearn.linear_model import LinearRegression, Ridge\n",
    "from sklearn.model_selection import train_test_split\n",
    "\n",
    "# Load dataset\n",
    "df = pd.read_csv(\"houses_ridge.csv\")\n",
    "\n",
    "# Define features (X) and target (y)\n",
    "X = df[['size_m2', 'bedrooms']]   # independent variables\n",
    "y = df['price_k']                 # dependent variable\n",
    "\n",
    "# Split data\n",
    "X_train, X_test, y_train, y_test = train_test_split(\n",
    "    X, y, test_size=0.2, random_state=42\n",
    ")\n"
   ]
  },
  {
   "cell_type": "code",
   "execution_count": 15,
   "id": "9cf6e0c8",
   "metadata": {},
   "outputs": [
    {
     "name": "stdout",
     "output_type": "stream",
     "text": [
      "Slope: 0.4074016733198316\n",
      "Intercept: 4.616082359352731\n",
      "OLS R^2: 0.7707551828720829\n",
      "Sample Prediction: [87.43830866]\n"
     ]
    }
   ],
   "source": [
    "\n",
    "ols = LinearRegression()\n",
    "ols.fit(X_train, y_train)\n",
    "print(\"Slope:\",ols.coef_[0])\n",
    "print(\"Intercept:\",ols.intercept_)\n",
    "r2_ols = ols.score(X_train, y_train)\n",
    "print(\"OLS R^2:\", r2_ols)\n",
    "\n",
    "sample_input = pd.DataFrame({\n",
    "    'size_m2': [70], #new unseen data\n",
    "    'bedrooms': [2]\n",
    "})\n",
    "sample_prediction_o = ols.predict(sample_input)\n",
    "print(\"Sample Prediction:\", sample_prediction_o)\n"
   ]
  },
  {
   "cell_type": "code",
   "execution_count": 16,
   "id": "1a6a64a9",
   "metadata": {},
   "outputs": [
    {
     "name": "stdout",
     "output_type": "stream",
     "text": [
      "Slope: 0.4271840977162159\n",
      "Intercept: 4.428219786435733\n",
      "Ridge R^2: 0.7706725268980363\n",
      "Sample Prediction: [87.35544213]\n"
     ]
    }
   ],
   "source": [
    "ridge=Ridge(alpha=1)\n",
    "ridge.fit(X_train,y_train)\n",
    "print(\"Slope:\",ridge.coef_[0])\n",
    "print(\"Intercept:\",ridge.intercept_)\n",
    "r2_ridge = ridge.score(X_train, y_train)\n",
    "print(\"Ridge R^2:\", r2_ridge)\n",
    "\n",
    "sample_input = pd.DataFrame({\n",
    "    'size_m2': [70],  #new unseen data\n",
    "    'bedrooms': [2]\n",
    "})\n",
    "sample_prediction_r = ridge.predict(sample_input)\n",
    "print(\"Sample Prediction:\", sample_prediction_r)"
   ]
  },
  {
   "cell_type": "code",
   "execution_count": 17,
   "id": "3e04a2e7",
   "metadata": {},
   "outputs": [
    {
     "data": {
      "image/png": "[encoded data removed]",
      "text/plain": [
       "<Figure size 400x300 with 1 Axes>"
      ]
     },
     "metadata": {},
     "output_type": "display_data"
    }
   ],
   "source": [
    "import matplotlib.pyplot as plt    \n",
    "\n",
    "x = [0] \n",
    "y= [1] \n",
    "width = 0.35\n",
    "\n",
    "plt.figure(figsize=(4, 3))\n",
    "\n",
    "plt.bar(x, sample_prediction_o, color='skyblue')\n",
    "plt.bar(y,sample_prediction_r, color='red')\n",
    "\n",
    "plt.ylabel('Predicted Price (k)')\n",
    "plt.title('OLS vs Ridge Predictions')\n",
    "\n",
    "plt.show()\n"
   ]
  }
 ],
 "metadata": {
  "kernelspec": {
   "display_name": "Python 3",
   "language": "python",
   "name": "python3"
  },
  "language_info": {
   "codemirror_mode": {
    "name": "ipython",
    "version": 3
   },
   "file_extension": ".py",
   "mimetype": "text/x-python",
   "name": "python",
   "nbconvert_exporter": "python",
   "pygments_lexer": "ipython3",
   "version": "3.13.6"
  }
 },
 "nbformat": 4,
 "nbformat_minor": 5
}
